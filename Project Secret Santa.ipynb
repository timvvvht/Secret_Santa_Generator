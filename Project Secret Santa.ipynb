{
 "cells": [
  {
   "cell_type": "code",
   "execution_count": 1592,
   "metadata": {},
   "outputs": [],
   "source": [
    "import numpy as np"
   ]
  },
  {
   "cell_type": "code",
   "execution_count": 1713,
   "metadata": {},
   "outputs": [],
   "source": [
    "class Person:\n",
    "    def __init__(self, name):\n",
    "        self.name = name\n",
    "        self.edges = list()\n",
    "        self.santa = None\n",
    "        self.child = None\n",
    "        self.parent = None\n",
    "        self.banlist = []\n",
    "    \n",
    "    def __repr__(self):\n",
    "        return str(self.name)\n",
    "    \n",
    "    def pop(self):\n",
    "        x = self.santa\n",
    "        self.santa = None\n",
    "        return x \n",
    "\n",
    "    def ban(self, to_ban):\n",
    "        self.banlist.append(to_ban)"
   ]
  },
  {
   "cell_type": "code",
   "execution_count": 1714,
   "metadata": {},
   "outputs": [],
   "source": [
    "names = ['Alice', 'Cathy', 'Ching', 'Giacomo', 'Henry', 'Jason', 'Jeff', 'Jero', 'Tiff', 'Tim', 'Sunny', 'Liv', 'Bobo', 'Lawrence']"
   ]
  },
  {
   "cell_type": "code",
   "execution_count": 1728,
   "metadata": {},
   "outputs": [],
   "source": [
    "# instantiate Person objects\n",
    "p = {i: Person(i) for i in names}"
   ]
  },
  {
   "cell_type": "code",
   "execution_count": 1739,
   "metadata": {},
   "outputs": [],
   "source": [
    "# Populate edges \n",
    "for i in p.values():\n",
    "    for j in p.values():\n",
    "        if i != j:\n",
    "            i.edges.append(j)"
   ]
  },
  {
   "cell_type": "code",
   "execution_count": 1740,
   "metadata": {},
   "outputs": [],
   "source": [
    "def negative(n1, *names):\n",
    "    p1 = p[n1]\n",
    "    for n in names:\n",
    "        if p[n] in p1.edges:\n",
    "            p1.edges.remove(p[n])\n",
    "        if p1 in p[n].edges:\n",
    "            p[n].edges.remove(p1)"
   ]
  },
  {
   "cell_type": "code",
   "execution_count": 1741,
   "metadata": {},
   "outputs": [],
   "source": [
    "negative('Sunny', 'Tim', 'Giacomo', 'Henry', 'Jason', 'Jeff', 'Jero', 'Tiff', 'Bobo')\n",
    "negative('Jason', 'Tim', 'Giacomo', 'Alice', 'Henry', 'Tiff', 'Jeff', 'Cathy', 'Ching')\n",
    "negative('Liv', 'Cathy', 'Giacomo', 'Jeff', 'Tiff', 'Sunny', 'Jason', 'Jero')\n",
    "negative('Lawrence', 'Alice', 'Cathy', 'Ching', 'Giacomo', 'Jason', 'Tiff', 'Sunny', 'Jeff')\n",
    "negative('Henry', 'Ching', 'Giacomo')\n",
    "negative('Cathy', 'Jeff', 'Tiff')\n",
    "negative(\"Ching\", \"Tiff\", \"Jeff\")"
   ]
  },
  {
   "cell_type": "code",
   "execution_count": 1742,
   "metadata": {},
   "outputs": [],
   "source": [
    "# sort by num_edges (increasing)\n",
    "num_nodes = [len(i.edges) for i in p.values()]\n",
    "idx = np.argsort(num_nodes)\n",
    "people = np.array([i for i in p.values()])[idx]"
   ]
  },
  {
   "cell_type": "code",
   "execution_count": 1743,
   "metadata": {},
   "outputs": [],
   "source": [
    "# Constraints: \n",
    "# Secret Santa of the Secret Santa of a Recipient cannot be the Recipient \n",
    "# Each person only assigned once \n",
    "# Secret Santa - Recipient must be people who know each other well aka valid edge \n",
    "\n",
    "def check(lst: list):\n",
    "    s = set()\n",
    "    r = set()\n",
    "    for i in lst:\n",
    "        assert i.santa.santa != i \n",
    "        assert i.santa in i.edges\n",
    "        s.add(str(i.santa.name))\n",
    "        r.add(str(i.name))\n",
    "    assert len(r) == len(s)\n",
    "\n",
    "def reset(lst: list):\n",
    "    for i in lst:\n",
    "        i.pop()"
   ]
  },
  {
   "cell_type": "code",
   "execution_count": 1744,
   "metadata": {},
   "outputs": [],
   "source": [
    "# Set up node structure \n",
    "for i in range(len(people)):\n",
    "    try:\n",
    "        people[i].child = people[i+1]\n",
    "        people[i+1].parent = people[i]\n",
    "    except IndexError:\n",
    "        people[i].child = None"
   ]
  },
  {
   "cell_type": "code",
   "execution_count": 1745,
   "metadata": {},
   "outputs": [],
   "source": [
    "num = []\n",
    "\n",
    "def generate(safeguard=False):\n",
    "    while True:\n",
    "        iters = 0\n",
    "        santa = [] \n",
    "        reset(people)\n",
    "        node = people[0]\n",
    "\n",
    "        while True:\n",
    "            iters += 1\n",
    "            if safeguard is True:\n",
    "                if iters > 50:\n",
    "                    iters = 0\n",
    "                    node = people[0]\n",
    "                    all_clear(people)\n",
    "                    santa = []\n",
    "                    iters = 0\n",
    "                    continue\n",
    "\n",
    "            # Set up pool of candidates             \n",
    "            edges = [i for i in node.edges if i not in santa and i not in node.banlist]\n",
    "\n",
    "            # Handle scenarios that necessitate backtracking, backtrack twice\n",
    "            if len(edges) == 1 and edges[0].santa == node or len(edges) == 0:\n",
    "                for _ in range(2):\n",
    "                    if node.parent is not None:\n",
    "                        node = node.parent\n",
    "                        if len(santa) != 0:\n",
    "                            node_santa = node.pop()\n",
    "                            santa.remove(node_santa)\n",
    "                try:\n",
    "                    node.ban(node_santa)\n",
    "                except:\n",
    "                    pass\n",
    "                \n",
    "            else:\n",
    "                # Selection is valid if santa of selection != current node\n",
    "                choice = np.random.choice(edges)\n",
    "                if choice.santa != node:\n",
    "                    node.santa = choice\n",
    "#                     print(f'{node=}')\n",
    "#                     print(f'{edges=}')\n",
    "#                     print(f'{choice=}')\n",
    "                    try:\n",
    "                        # reset banlist of child\n",
    "                        node.child.banlist = []\n",
    "                    except AttributeError:\n",
    "                        pass\n",
    "                    santa.append(choice)\n",
    "                    node = node.child\n",
    "                    \n",
    "                    if node is None:\n",
    "                        # all assigned, exit loop\n",
    "                        num.append(iters)\n",
    "#                         print(f'{iters=}')\n",
    "                        break\n",
    "                else:\n",
    "                    # ban illegitimate choice and reroll\n",
    "                    node.ban(choice)                    \n",
    "\n",
    "        # Check constraints\n",
    "        check(people)\n",
    "\n",
    "        # construct dictionary\n",
    "        secret_santa = {i: i.santa for i in people}\n",
    "        yield secret_santa"
   ]
  },
  {
   "cell_type": "code",
   "execution_count": 1751,
   "metadata": {},
   "outputs": [
    {
     "name": "stdout",
     "output_type": "stream",
     "text": [
      "37032 unique combinations generated\n",
      "Average Iters : 24.05819820928587\n",
      "Median Iters : 18.0\n"
     ]
    }
   ],
   "source": [
    "s = set()\n",
    "for i in range(50000):\n",
    "#     print(i)\n",
    "    config = next(generate())\n",
    "#     for person, santa in config.items():\n",
    "#         print(f'Secret Santa : {santa}')\n",
    "#         print(f'Recipient : {person}')\n",
    "#         print('\\n')\n",
    "    s.add(str(config))\n",
    "\n",
    "print(f'{len(s)} unique combinations generated')\n",
    "print(f'Average Iters : {np.mean(num)}')\n",
    "print(f'Median Iters : {np.median(num)}')"
   ]
  },
  {
   "cell_type": "code",
   "execution_count": 1752,
   "metadata": {},
   "outputs": [
    {
     "name": "stdout",
     "output_type": "stream",
     "text": [
      "Secret Santa :  Bobo\n",
      "Recipient    : Jason\n",
      "\n",
      "\n",
      "Secret Santa :  Ching\n",
      "Recipient    : Sunny\n",
      "\n",
      "\n",
      "Secret Santa :  Liv\n",
      "Recipient    : Lawrence\n",
      "\n",
      "\n",
      "Secret Santa :  Henry\n",
      "Recipient    : Liv\n",
      "\n",
      "\n",
      "Secret Santa :  Tiff\n",
      "Recipient    : Jeff\n",
      "\n",
      "\n",
      "Secret Santa :  Giacomo\n",
      "Recipient    : Tiff\n",
      "\n",
      "\n",
      "Secret Santa :  Tim\n",
      "Recipient    : Cathy\n",
      "\n",
      "\n",
      "Secret Santa :  Alice\n",
      "Recipient    : Ching\n",
      "\n",
      "\n",
      "Secret Santa :  Jero\n",
      "Recipient    : Giacomo\n",
      "\n",
      "\n",
      "Secret Santa :  Cathy\n",
      "Recipient    : Henry\n",
      "\n",
      "\n",
      "Secret Santa :  Sunny\n",
      "Recipient    : Alice\n",
      "\n",
      "\n",
      "Secret Santa :  Jason\n",
      "Recipient    : Jero\n",
      "\n",
      "\n",
      "Secret Santa :  Lawrence\n",
      "Recipient    : Tim\n",
      "\n",
      "\n",
      "Secret Santa :  Jeff\n",
      "Recipient    : Bobo\n",
      "\n",
      "\n"
     ]
    }
   ],
   "source": [
    "for i in next(generate()):\n",
    "    print('Secret Santa : ', i.santa)\n",
    "    print('Recipient    :', i)\n",
    "    print('\\n')"
   ]
  },
  {
   "cell_type": "code",
   "execution_count": null,
   "metadata": {},
   "outputs": [],
   "source": []
  },
  {
   "cell_type": "code",
   "execution_count": null,
   "metadata": {},
   "outputs": [],
   "source": []
  }
 ],
 "metadata": {},
 "nbformat": 4,
 "nbformat_minor": 4
}
